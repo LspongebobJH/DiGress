{
 "cells": [
  {
   "cell_type": "code",
   "execution_count": 21,
   "id": "a45399b0-4493-4c0b-b8e6-aed2fae5b3f9",
   "metadata": {},
   "outputs": [],
   "source": [
    "import sys\n",
    "sys.path.append('/home/jiahang/DiGress/src')\n",
    "from utils import to_dense\n",
    "from torch_geometric.utils import to_dense_adj, to_dense_batch"
   ]
  },
  {
   "cell_type": "code",
   "execution_count": 1,
   "id": "28d48e29-8534-4d27-a7d0-246419fa5622",
   "metadata": {},
   "outputs": [],
   "source": [
    "path_golden_g = '/home/jiahang/DiGress/data/ND-code-datasets/Application2-protein-contact-maps/full-predictions/golden_all.pt'\n",
    "path_golden_idx = '/home/jiahang/DiGress/data/ND-code-datasets/Application2-protein-contact-maps/full-predictions/golden_idx.pt'"
   ]
  },
  {
   "cell_type": "code",
   "execution_count": 2,
   "id": "204c7142-b22f-4610-bcbf-d705cbf41028",
   "metadata": {},
   "outputs": [],
   "source": [
    "import torch"
   ]
  },
  {
   "cell_type": "code",
   "execution_count": 3,
   "id": "9e3e9918-3422-4041-be4f-4f6cdbfdd31a",
   "metadata": {},
   "outputs": [],
   "source": [
    "golden_g, golden_slices = torch.load(path_golden_g)\n",
    "golden_idx = torch.load(path_golden_idx)"
   ]
  },
  {
   "cell_type": "code",
   "execution_count": 4,
   "id": "adb5478b-7dbb-4de5-989c-ffbbf6381128",
   "metadata": {},
   "outputs": [
    {
     "data": {
      "text/plain": [
       "Data(x=[1754, 1], edge_index=[2, 13138], edge_attr=[13138], y=[15, 0], n_nodes=[15])"
      ]
     },
     "execution_count": 4,
     "metadata": {},
     "output_type": "execute_result"
    }
   ],
   "source": [
    "golden_g"
   ]
  },
  {
   "cell_type": "code",
   "execution_count": 20,
   "id": "602b059d-e0b2-492d-aa23-b7104836ed50",
   "metadata": {},
   "outputs": [
    {
     "data": {
      "text/plain": [
       "tensor([1, 1, 1,  ..., 1, 1, 1], dtype=torch.uint8)"
      ]
     },
     "execution_count": 20,
     "metadata": {},
     "output_type": "execute_result"
    }
   ],
   "source": [
    "golden_g.edge_attr"
   ]
  },
  {
   "cell_type": "code",
   "execution_count": 24,
   "id": "e684a360-322c-474e-abf5-5c5661669698",
   "metadata": {},
   "outputs": [
    {
     "data": {
      "text/plain": [
       "1754"
      ]
     },
     "execution_count": 24,
     "metadata": {},
     "output_type": "execute_result"
    }
   ],
   "source": []
  },
  {
   "cell_type": "code",
   "execution_count": 25,
   "id": "a725817c-e1f9-416d-8606-f940b4f01c8b",
   "metadata": {},
   "outputs": [],
   "source": [
    "E = to_dense_adj(edge_index=golden_g.edge_index, batch=golden_g.batch, edge_attr=golden_g.edge_attr, max_num_nodes=golden_g.x.shape[0])"
   ]
  },
  {
   "cell_type": "code",
   "execution_count": 26,
   "id": "5546db0e-44e2-44ce-aa1b-1e33772edaae",
   "metadata": {},
   "outputs": [
    {
     "data": {
      "text/plain": [
       "tensor([[[ 0,  8, 11,  ...,  0,  0,  0],\n",
       "         [ 8,  0,  8,  ...,  0,  0,  0],\n",
       "         [11,  8,  0,  ...,  0,  0,  0],\n",
       "         ...,\n",
       "         [ 0,  0,  0,  ...,  0,  0,  0],\n",
       "         [ 0,  0,  0,  ...,  0,  0,  0],\n",
       "         [ 0,  0,  0,  ...,  0,  0,  0]]], dtype=torch.uint8)"
      ]
     },
     "execution_count": 26,
     "metadata": {},
     "output_type": "execute_result"
    }
   ],
   "source": [
    "E"
   ]
  },
  {
   "cell_type": "code",
   "execution_count": null,
   "id": "801fa810-b704-4aa3-94de-b5d40f1b73b1",
   "metadata": {},
   "outputs": [],
   "source": [
    "from gidx in golden_slices['n_nodes']"
   ]
  },
  {
   "cell_type": "code",
   "execution_count": 28,
   "id": "ec23a861-0e1c-440d-94ad-4a84b71f3bf0",
   "metadata": {},
   "outputs": [
    {
     "data": {
      "text/plain": [
       "defaultdict(dict,\n",
       "            {'x': tensor([   0,  116,  180,  277,  391,  444,  515,  622,  700,  863,  975, 1237,\n",
       "                     1339, 1562, 1610, 1754]),\n",
       "             'edge_index': tensor([    0,   882,  1360,  2104,  2884,  3278,  3798,  4592,  5160,  6400,\n",
       "                      7230,  9244, 10016, 11648, 11990, 13138]),\n",
       "             'edge_attr': tensor([    0,   882,  1360,  2104,  2884,  3278,  3798,  4592,  5160,  6400,\n",
       "                      7230,  9244, 10016, 11648, 11990, 13138]),\n",
       "             'y': tensor([ 0,  1,  2,  3,  4,  5,  6,  7,  8,  9, 10, 11, 12, 13, 14, 15]),\n",
       "             'n_nodes': tensor([ 0,  1,  2,  3,  4,  5,  6,  7,  8,  9, 10, 11, 12, 13, 14, 15])})"
      ]
     },
     "execution_count": 28,
     "metadata": {},
     "output_type": "execute_result"
    }
   ],
   "source": []
  },
  {
   "cell_type": "code",
   "execution_count": 30,
   "id": "d95f9306-9cdc-4763-8c64-c0f024c922fa",
   "metadata": {},
   "outputs": [
    {
     "data": {
      "text/plain": [
       "tensor(261)"
      ]
     },
     "execution_count": 30,
     "metadata": {},
     "output_type": "execute_result"
    }
   ],
   "source": [
    "golden_g.edge_index.max()"
   ]
  },
  {
   "cell_type": "code",
   "execution_count": null,
   "id": "8ece4389-87c2-4176-bbf1-fd9281df6029",
   "metadata": {},
   "outputs": [],
   "source": []
  }
 ],
 "metadata": {
  "kernelspec": {
   "display_name": "Python 3 (ipykernel)",
   "language": "python",
   "name": "python3"
  },
  "language_info": {
   "codemirror_mode": {
    "name": "ipython",
    "version": 3
   },
   "file_extension": ".py",
   "mimetype": "text/x-python",
   "name": "python",
   "nbconvert_exporter": "python",
   "pygments_lexer": "ipython3",
   "version": "3.9.19"
  }
 },
 "nbformat": 4,
 "nbformat_minor": 5
}
